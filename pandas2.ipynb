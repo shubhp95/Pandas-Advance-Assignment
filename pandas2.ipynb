{
 "cells": [
  {
   "cell_type": "code",
   "execution_count": 9,
   "id": "e52a87ec-1c27-4349-8344-62ed246630d5",
   "metadata": {},
   "outputs": [],
   "source": [
    "#Ans1:\n",
    "#a.read_csv():Reads a CSV file into a DataFrame.\n",
    "import pandas as pd\n",
    "df = pd.read_csv('file.csv') \n",
    "print(df.head())\n",
    "\n",
    "\n",
    "#b.groupby(): Groups DataFrame using a mapper or by a Series of columns.\n",
    "df = pd.DataFrame({\n",
    "    'Category': ['A', 'A', 'B', 'B'],\n",
    "    'Value': [10, 20, 30, 40]\n",
    "})\n",
    "grouped = df.groupby('Category').sum()\n",
    "print(grouped)\n",
    "\n",
    "\n",
    "#c.merge(): Merges two DataFrames based on a common column.\n",
    "df1 = pd.DataFrame({\n",
    "    'ID': [1, 2, 3],\n",
    "    'Name': ['Alice', 'Bob', 'Charlie']\n",
    "})\n",
    "df2 = pd.DataFrame({\n",
    "    'ID': [1, 2, 4],\n",
    "    'Score': [85, 90, 95]\n",
    "})\n",
    "merged_df = pd.merge(df1, df2, on='ID', how='inner')\n",
    "print(merged_df)\n",
    "\n",
    "\n",
    "#d.pivot_table(): Creates a pivot table for summarizing data.\n",
    "df = pd.DataFrame({\n",
    "    'Date': ['2024-01-01', '2024-01-01', '2024-01-02', '2024-01-02'],\n",
    "    'Category': ['A', 'B', 'A', 'B'],\n",
    "    'Sales': [100, 150, 200, 250]\n",
    "})\n",
    "pivot_table = df.pivot_table(values='Sales', index='Date', columns='Category', aggfunc='sum')\n",
    "print(pivot_table)"
   ]
  },
  {
   "cell_type": "code",
   "execution_count": 13,
   "id": "ab68a754-c083-428d-8e7e-86d06f70bf97",
   "metadata": {},
   "outputs": [
    {
     "name": "stdout",
     "output_type": "stream",
     "text": [
      "Original DataFrame:\n",
      "    A   B   C\n",
      "0  10  40  70\n",
      "1  20  50  80\n",
      "2  30  60  90\n",
      "\n",
      "Re-indexed DataFrame:\n",
      "    A   B   C\n",
      "1  10  40  70\n",
      "3  20  50  80\n",
      "5  30  60  90\n"
     ]
    }
   ],
   "source": [
    "#Ans2:\n",
    "import pandas as pd\n",
    "def reindex_dataframe(df):\n",
    "    new_index = range(1, len(df) * 2 + 1, 2)\n",
    "    df_reindexed = df.copy()\n",
    "    df_reindexed.index = new_index\n",
    "    return df_reindexed\n",
    "data = {\n",
    "    'A': [10, 20, 30],\n",
    "    'B': [40, 50, 60],\n",
    "    'C': [70, 80, 90]\n",
    "}\n",
    "df = pd.DataFrame(data)\n",
    "print(\"Original DataFrame:\")\n",
    "print(df)\n",
    "df_reindexed = reindex_dataframe(df)\n",
    "print(\"\\nRe-indexed DataFrame:\")\n",
    "print(df_reindexed)\n"
   ]
  },
  {
   "cell_type": "code",
   "execution_count": 21,
   "id": "33b7626e-8caf-4120-9e52-76171dff8dce",
   "metadata": {},
   "outputs": [
    {
     "name": "stdout",
     "output_type": "stream",
     "text": [
      "Sum of the first three values: 60\n"
     ]
    }
   ],
   "source": [
    "#Ans3:\n",
    "def sum_first_three_values(df):\n",
    "    values = df['Values']\n",
    "    first_three = values.head(3)\n",
    "    sum_first_three = first_three.sum()\n",
    "    print(\"Sum of the first three values:\", sum_first_three)\n",
    "data = {\n",
    "    'Values':[10, 20, 30, 40, 50],\n",
    "}\n",
    "df = pd.DataFrame(data)\n",
    "\n",
    "sum_first_three_values(df)\n"
   ]
  },
  {
   "cell_type": "code",
   "execution_count": 23,
   "id": "0c9c76ec-b78d-4cbc-8272-d60c482a49b5",
   "metadata": {},
   "outputs": [
    {
     "name": "stdout",
     "output_type": "stream",
     "text": [
      "                                    Text  Word_Count\n",
      "0                            Hello world           2\n",
      "1  Pandas is great for data manipulation           6\n",
      "2                  This is a sample text           5\n",
      "3                                                  0\n"
     ]
    }
   ],
   "source": [
    "#Ans4:\n",
    "def add_word_count_column(df):\n",
    "    def count_words(text):\n",
    "        if pd.isna(text) or not text.strip():\n",
    "            return 0\n",
    "        return len(text.split())\n",
    "    df['Word_Count'] = df['Text'].apply(count_words)\n",
    "    \n",
    "    return df\n",
    "data = {\n",
    "    'Text': [\n",
    "        'Hello world',\n",
    "        'Pandas is great for data manipulation',\n",
    "        'This is a sample text',\n",
    "        ''\n",
    "    ]\n",
    "}\n",
    "df = pd.DataFrame(data)\n",
    "df_with_word_count = add_word_count_column(df)\n",
    "print(df_with_word_count)\n"
   ]
  },
  {
   "cell_type": "code",
   "execution_count": null,
   "id": "72362b25-4993-4e8b-9201-6e53de09de1e",
   "metadata": {},
   "outputs": [],
   "source": [
    "#Ans5:\n",
    "#a.DataFrame.size:Returns the total number of elements in the DataFrame.\n",
    "#b.DataFrame.shape: Returns a tuple representing the dimensions of the DataFrame."
   ]
  },
  {
   "cell_type": "code",
   "execution_count": null,
   "id": "0cc71fee-6e8f-47fd-9aae-e3c88b6e8b78",
   "metadata": {},
   "outputs": [],
   "source": [
    "#Ans6:To read an Excel file into a Pandas DataFrame, you use the pandas.read_excel() function. This function can read data from Excel files with .xls and .xlsx extensions."
   ]
  },
  {
   "cell_type": "code",
   "execution_count": 29,
   "id": "f0b46179-530c-4621-a669-84a4e8cc72cf",
   "metadata": {},
   "outputs": [
    {
     "name": "stdout",
     "output_type": "stream",
     "text": [
      "                     Email             Username\n",
      "0  shubhankar123@gmail.com        shubhankar123\n",
      "1            shubhp456.com        shubhp456.com\n",
      "2      shubhankar123.ac.in  shubhankar123.ac.in\n"
     ]
    }
   ],
   "source": [
    "#Ans7:\n",
    "def extract_username(df):\n",
    "    def get_username(email):\n",
    "        # Split the email address at the '@' and take the first part\n",
    "        if pd.isna(email):\n",
    "            return None\n",
    "        return email.split('@')[0]\n",
    "    df['Username'] = df['Email'].apply(get_username)\n",
    "    return df\n",
    "data = {\n",
    "    'Email': [\n",
    "        'shubhankar123@gmail.com',\n",
    "        'shubhp456.com',\n",
    "        'shubhankar123.ac.in'\n",
    "    ]\n",
    "}\n",
    "df = pd.DataFrame(data)\n",
    "df_username = extract_username(df)\n",
    "print(df_username)\n"
   ]
  },
  {
   "cell_type": "code",
   "execution_count": 31,
   "id": "480a3204-9e6d-4e36-a815-1a2892400ca6",
   "metadata": {},
   "outputs": [
    {
     "name": "stdout",
     "output_type": "stream",
     "text": [
      "   A  B  C\n",
      "1  8  2  7\n",
      "2  6  9  4\n",
      "4  9  1  2\n"
     ]
    }
   ],
   "source": [
    "#Ans8:\n",
    "def filter_rows(df):\n",
    "    filtered_df = df[(df['A'] > 5) & (df['B'] < 10)]\n",
    "    return filtered_df\n",
    "data = {\n",
    "    'A': [3, 8, 6, 2, 9],\n",
    "    'B': [5, 2, 9, 3, 1],\n",
    "    'C': [1, 7, 4, 5, 2]\n",
    "}\n",
    "df = pd.DataFrame(data)\n",
    "filtered_df = filter_rows(df)\n",
    "print(filtered_df)"
   ]
  },
  {
   "cell_type": "code",
   "execution_count": 35,
   "id": "7907b08b-946f-4a0f-9a98-655b7820d958",
   "metadata": {},
   "outputs": [
    {
     "name": "stdout",
     "output_type": "stream",
     "text": [
      "{'Mean': 30.0, 'Median': 30.0, 'Standard Deviation': 15.811388300841896}\n"
     ]
    },
    {
     "data": {
      "text/html": [
       "<div>\n",
       "<style scoped>\n",
       "    .dataframe tbody tr th:only-of-type {\n",
       "        vertical-align: middle;\n",
       "    }\n",
       "\n",
       "    .dataframe tbody tr th {\n",
       "        vertical-align: top;\n",
       "    }\n",
       "\n",
       "    .dataframe thead th {\n",
       "        text-align: right;\n",
       "    }\n",
       "</style>\n",
       "<table border=\"1\" class=\"dataframe\">\n",
       "  <thead>\n",
       "    <tr style=\"text-align: right;\">\n",
       "      <th></th>\n",
       "      <th>Values</th>\n",
       "    </tr>\n",
       "  </thead>\n",
       "  <tbody>\n",
       "    <tr>\n",
       "      <th>0</th>\n",
       "      <td>10</td>\n",
       "    </tr>\n",
       "    <tr>\n",
       "      <th>1</th>\n",
       "      <td>20</td>\n",
       "    </tr>\n",
       "    <tr>\n",
       "      <th>2</th>\n",
       "      <td>30</td>\n",
       "    </tr>\n",
       "    <tr>\n",
       "      <th>3</th>\n",
       "      <td>40</td>\n",
       "    </tr>\n",
       "    <tr>\n",
       "      <th>4</th>\n",
       "      <td>50</td>\n",
       "    </tr>\n",
       "  </tbody>\n",
       "</table>\n",
       "</div>"
      ],
      "text/plain": [
       "   Values\n",
       "0      10\n",
       "1      20\n",
       "2      30\n",
       "3      40\n",
       "4      50"
      ]
     },
     "execution_count": 35,
     "metadata": {},
     "output_type": "execute_result"
    }
   ],
   "source": [
    "#Ans9:\n",
    "def calculate_statistics(df):\n",
    "    if 'Values' not in df.columns:\n",
    "        raise ValueError(\"The DataFrame must contain a column named 'Values'\")\n",
    "    mean_value = df['Values'].mean()\n",
    "    median_value = df['Values'].median()\n",
    "    std_dev = df['Values'].std()\n",
    "    return {\n",
    "        'Mean': mean_value,\n",
    "        'Median': median_value,\n",
    "        'Standard Deviation': std_dev\n",
    "    }\n",
    "data = {\n",
    "    'Values': [10, 20, 30, 40, 50]\n",
    "}\n",
    "df = pd.DataFrame(data)\n",
    "statistics = calculate_statistics(df)\n",
    "print(statistics)\n",
    "df"
   ]
  },
  {
   "cell_type": "code",
   "execution_count": 37,
   "id": "e90d0e66-99a6-4c8f-a461-5e94cb6b081b",
   "metadata": {},
   "outputs": [
    {
     "name": "stdout",
     "output_type": "stream",
     "text": [
      "        Date  Sales  MovingAverage\n",
      "0 2024-08-01    200     200.000000\n",
      "1 2024-08-02    220     210.000000\n",
      "2 2024-08-03    250     223.333333\n",
      "3 2024-08-04    210     220.000000\n",
      "4 2024-08-05    230     222.000000\n",
      "5 2024-08-06    240     225.000000\n",
      "6 2024-08-07    250     228.571429\n",
      "7 2024-08-08    260     237.142857\n",
      "8 2024-08-09    270     244.285714\n",
      "9 2024-08-10    280     248.571429\n"
     ]
    }
   ],
   "source": [
    "#Ans10:\n",
    "import pandas as pd\n",
    "\n",
    "def add_moving_average(df):\n",
    "    if 'Sales' not in df.columns or 'Date' not in df.columns:\n",
    "        raise ValueError(\"The DataFrame must contain 'Sales' and 'Date' columns\")\n",
    "    df['Date'] = pd.to_datetime(df['Date'])\n",
    "\n",
    "    # Sort the DataFrame by date to ensure the moving average is calculated correctly\n",
    "    df = df.sort_values(by='Date')\n",
    "    df['MovingAverage'] = df['Sales'].rolling(window=7, min_periods=1).mean()\n",
    "    return df\n",
    "data = {\n",
    "    'Date': ['2024-08-01', '2024-08-02', '2024-08-03', '2024-08-04', '2024-08-05',\n",
    "             '2024-08-06', '2024-08-07', '2024-08-08', '2024-08-09', '2024-08-10'],\n",
    "    'Sales': [200, 220, 250, 210, 230, 240, 250, 260, 270, 280]\n",
    "}\n",
    "df = pd.DataFrame(data)\n",
    "df_with_moving_avg = add_moving_average(df)\n",
    "print(df_with_moving_avg)\n"
   ]
  },
  {
   "cell_type": "code",
   "execution_count": 41,
   "id": "c2dbd58c-61c1-49bd-9f07-19a63441705e",
   "metadata": {},
   "outputs": [
    {
     "name": "stdout",
     "output_type": "stream",
     "text": [
      "        Date    Weekday\n",
      "0 2023-01-01     Sunday\n",
      "1 2023-01-02     Monday\n",
      "2 2023-01-03    Tuesday\n",
      "3 2023-01-04  Wednesday\n",
      "4 2023-01-05   Thursday\n"
     ]
    }
   ],
   "source": [
    "#Ans11:\n",
    "def add_weekday_column(df):\n",
    "    if 'Date' not in df.columns:\n",
    "        raise ValueError(\"The DataFrame must contain a column named 'Date'\")\n",
    "    df['Date'] = pd.to_datetime(df['Date'])\n",
    "    df['Weekday'] = df['Date'].dt.day_name()\n",
    "    \n",
    "    return df\n",
    "data = {\n",
    "    'Date': ['2023-01-01', '2023-01-02', '2023-01-03', '2023-01-04', '2023-01-05']\n",
    "}\n",
    "df = pd.DataFrame(data)\n",
    "df_with_weekday = add_weekday_column(df)\n",
    "print(df_with_weekday)\n"
   ]
  },
  {
   "cell_type": "code",
   "execution_count": 43,
   "id": "fbe26c8e-9713-433f-bc13-257aa5e6d1bb",
   "metadata": {},
   "outputs": [
    {
     "name": "stdout",
     "output_type": "stream",
     "text": [
      "        Date  Value\n",
      "0 2023-01-01    100\n",
      "1 2023-01-10    200\n",
      "2 2023-01-20    300\n",
      "4 2023-01-15    500\n"
     ]
    }
   ],
   "source": [
    "#Ans12:\n",
    "def filter_by_date_range(df, start_date, end_date):\n",
    "    if 'Date' not in df.columns:\n",
    "        raise ValueError(\"The DataFrame must contain a column named 'Date'\")\n",
    "    df['Date'] = pd.to_datetime(df['Date'])\n",
    "    start_date = pd.to_datetime(start_date)\n",
    "    end_date = pd.to_datetime(end_date)\n",
    "    filtered_df = df[(df['Date'] >= start_date) & (df['Date'] <= end_date)]\n",
    "    \n",
    "    return filtered_df\n",
    "data = {\n",
    "    'Date': ['2023-01-01', '2023-01-10', '2023-01-20', '2023-02-01', '2023-01-15'],\n",
    "    'Value': [100, 200, 300, 400, 500]\n",
    "}\n",
    "df = pd.DataFrame(data)\n",
    "filtered_df = filter_by_date_range(df, '2023-01-01', '2023-01-31')\n",
    "print(filtered_df)\n"
   ]
  },
  {
   "cell_type": "code",
   "execution_count": 45,
   "id": "e6c0caff-a6c8-421d-bb40-dcc35fa72af8",
   "metadata": {},
   "outputs": [],
   "source": [
    "#Ans13:\n",
    "import pandas as pd\n",
    "#The following is the firstmost lib is needed in python for pandas basic fucntions"
   ]
  },
  {
   "cell_type": "code",
   "execution_count": null,
   "id": "f4aac042-c1e6-486b-acbd-a0b51518e503",
   "metadata": {},
   "outputs": [],
   "source": []
  }
 ],
 "metadata": {
  "kernelspec": {
   "display_name": "Python 3 (ipykernel)",
   "language": "python",
   "name": "python3"
  },
  "language_info": {
   "codemirror_mode": {
    "name": "ipython",
    "version": 3
   },
   "file_extension": ".py",
   "mimetype": "text/x-python",
   "name": "python",
   "nbconvert_exporter": "python",
   "pygments_lexer": "ipython3",
   "version": "3.12.4"
  }
 },
 "nbformat": 4,
 "nbformat_minor": 5
}
